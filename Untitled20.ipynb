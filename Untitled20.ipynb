{
  "nbformat": 4,
  "nbformat_minor": 0,
  "metadata": {
    "colab": {
      "provenance": []
    },
    "kernelspec": {
      "name": "python3",
      "display_name": "Python 3"
    },
    "language_info": {
      "name": "python"
    }
  },
  "cells": [
    {
      "cell_type": "markdown",
      "source": [
        "Урок 5. Spark on scala\n",
        "\n",
        "Условие: создайте csv файл с таким содержимым:\n",
        "\n",
        "title,author,genre,sales,year\n",
        "\n",
        "\"1984\", \"George Orwell\", \"Science Fiction\", 5000, 1949\n",
        "\n",
        "\"The Lord of the Rings\", \"J.R.R. Tolkien\", \"Fantasy\", 3000, 1954\n",
        "\n",
        "\"To Kill a Mockingbird\", \"Harper Lee\", \"Southern Gothic\", 4000, 1960\n",
        "\n",
        "\"The Catcher in the Rye\", \"J.D. Salinger\", \"Novel\", 2000, 1951\n",
        "\n",
        "\"The Great Gatsby\", \"F. Scott Fitzgerald\", \"Novel\", 4500, 1925\n",
        "\n",
        "Задание:\n",
        "\n",
        "— Используя Spark прочитайте данные из файла csv.\n",
        "— Фильтруйте данные, чтобы оставить только книги, продажи которых превышают 3000 экземпляров.\n",
        "— Сгруппируйте данные по жанру и вычислите общий объем продаж для каждого жанра.\n",
        "— Отсортируйте данные по общему объему продаж в порядке убывания.\n",
        "— Выведите результаты на экран."
      ],
      "metadata": {
        "id": "F0TQy5qbehwd"
      }
    },
    {
      "cell_type": "code",
      "source": [
        "import csv\n",
        "\n",
        "# Данные для записи\n",
        "data = [\n",
        "    [\"title\", \"author\", \"genre\", \"sales\", \"year\"],\n",
        "    [\"1984\", \"George Orwell\", \"Science Fiction\", 5000, 1949],\n",
        "    [\"The Lord of the Rings\", \"J.R.R. Tolkien\", \"Fantasy\", 3000, 1954],\n",
        "    [\"To Kill a Mockingbird\", \"Harper Lee\", \"Southern Gothic\", 4000, 1960],\n",
        "    [\"The Catcher in the Rye\", \"J.D. Salinger\", \"Novel\", 2000, 1951],\n",
        "    [\"The Great Gatsby\", \"F. Scott Fitzgerald\", \"Novel\", 4500, 1925]\n",
        "]\n",
        "\n",
        "# Создание и запись данных в CSV файл\n",
        "with open('books.csv', 'w', newline='', encoding='utf-8') as file:\n",
        "    writer = csv.writer(file)\n",
        "    writer.writerows(data)\n",
        "\n",
        "print(\"CSV файл создан!\")\n"
      ],
      "metadata": {
        "colab": {
          "base_uri": "https://localhost:8080/"
        },
        "id": "BrHFDVshsR8I",
        "outputId": "0ea09373-4b11-43ed-ee57-9096c363a812"
      },
      "execution_count": 7,
      "outputs": [
        {
          "output_type": "stream",
          "name": "stdout",
          "text": [
            "CSV файл создан!\n"
          ]
        }
      ]
    },
    {
      "cell_type": "code",
      "execution_count": 8,
      "metadata": {
        "colab": {
          "base_uri": "https://localhost:8080/"
        },
        "id": "bpBk-xl1eTjk",
        "outputId": "d0275c4f-e647-4021-8e0e-ca488607e847"
      },
      "outputs": [
        {
          "output_type": "stream",
          "name": "stdout",
          "text": [
            "Requirement already satisfied: pyspark in /usr/local/lib/python3.10/dist-packages (3.5.3)\n",
            "Requirement already satisfied: py4j==0.10.9.7 in /usr/local/lib/python3.10/dist-packages (from pyspark) (0.10.9.7)\n"
          ]
        }
      ],
      "source": [
        "pip install pyspark"
      ]
    },
    {
      "cell_type": "code",
      "source": [
        "from pyspark.sql import SparkSession\n",
        "from pyspark.sql.window import Window\n",
        "import pyspark.sql.functions as fn\n",
        "from pyspark.sql.types import DoubleType\n",
        "\n"
      ],
      "metadata": {
        "id": "s6p6Zt9cfoDM"
      },
      "execution_count": 9,
      "outputs": []
    },
    {
      "cell_type": "code",
      "source": [
        "# Создание Spark сессии\n",
        "spark = SparkSession.builder.appName(\"Homework5\").getOrCreate()"
      ],
      "metadata": {
        "id": "Zj1jmVvUf1VJ"
      },
      "execution_count": 10,
      "outputs": []
    },
    {
      "cell_type": "code",
      "source": [
        "# Создание Spark сессии\n",
        "spark = SparkSession.builder.appName(\"Homework5\").getOrCreate()\n",
        "\n",
        "# Загрузка данных\n",
        "df = spark.read.option(\"header\",True).csv(\"books.csv\")\n",
        "print(\"Исходный датасет:\")\n",
        "df.show()\n",
        "\n",
        "# Фильтрация данных, чтобы оставить только книги, продажи которых превышают 3000 экземпляров\n",
        "filtered_df = df.filter(df.sales > 3000)\n",
        "print(\"Фильтрация по продажам (более 3000 экземпляров):\")\n",
        "filtered_df.show()\n",
        "\n",
        "# Группировка данных по жанру и вычисление общего объема продаж для каждого жанра\n",
        "window_spec = Window.partitionBy(\"genre\")\n",
        "sum_sales_by_genre = fn.sum(\"sales\").over(window_spec)\n",
        "sum_sales_by_genre_df = df.withColumn(\"sum_sales_by_genre\", sum_sales_by_genre)\n",
        "# Сортировка данных по общему объему продаж в порядке убывания и вывод результатов:\n",
        "print(\"Общие объемы продаж по жанрам в порядке убывания:\")\n",
        "sum_sales_by_genre_df.select([\"genre\", \"sum_sales_by_genre\"]).distinct() \\\n",
        "    .orderBy(sum_sales_by_genre_df.sum_sales_by_genre.desc()).show()"
      ],
      "metadata": {
        "colab": {
          "base_uri": "https://localhost:8080/"
        },
        "id": "g10LCti2gFFw",
        "outputId": "d33682fe-a1ea-47cb-fec8-c63e1ccb27e6"
      },
      "execution_count": 12,
      "outputs": [
        {
          "output_type": "stream",
          "name": "stdout",
          "text": [
            "Исходный датасет:\n",
            "+--------------------+-------------------+---------------+-----+----+\n",
            "|               title|             author|          genre|sales|year|\n",
            "+--------------------+-------------------+---------------+-----+----+\n",
            "|                1984|      George Orwell|Science Fiction| 5000|1949|\n",
            "|The Lord of the R...|     J.R.R. Tolkien|        Fantasy| 3000|1954|\n",
            "|To Kill a Mocking...|         Harper Lee|Southern Gothic| 4000|1960|\n",
            "|The Catcher in th...|      J.D. Salinger|          Novel| 2000|1951|\n",
            "|    The Great Gatsby|F. Scott Fitzgerald|          Novel| 4500|1925|\n",
            "+--------------------+-------------------+---------------+-----+----+\n",
            "\n",
            "Фильтрация по продажам (более 3000 экземпляров):\n",
            "+--------------------+-------------------+---------------+-----+----+\n",
            "|               title|             author|          genre|sales|year|\n",
            "+--------------------+-------------------+---------------+-----+----+\n",
            "|                1984|      George Orwell|Science Fiction| 5000|1949|\n",
            "|To Kill a Mocking...|         Harper Lee|Southern Gothic| 4000|1960|\n",
            "|    The Great Gatsby|F. Scott Fitzgerald|          Novel| 4500|1925|\n",
            "+--------------------+-------------------+---------------+-----+----+\n",
            "\n",
            "Общие объемы продаж по жанрам в порядке убывания:\n",
            "+---------------+------------------+\n",
            "|          genre|sum_sales_by_genre|\n",
            "+---------------+------------------+\n",
            "|          Novel|            6500.0|\n",
            "|Science Fiction|            5000.0|\n",
            "|Southern Gothic|            4000.0|\n",
            "|        Fantasy|            3000.0|\n",
            "+---------------+------------------+\n",
            "\n"
          ]
        }
      ]
    }
  ]
}